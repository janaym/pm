{
 "cells": [
  {
   "cell_type": "code",
   "execution_count": 1,
   "metadata": {},
   "outputs": [],
   "source": [
    "%matplotlib inline\n",
    "from sympy import  *\n",
    "init_printing(pretty_print = True)"
   ]
  },
  {
   "cell_type": "markdown",
   "metadata": {},
   "source": [
    "### Part A\n",
    "\n",
    "We do the same process as in 6.7.2 but instead we factor $\\frac{1}{r}$ out of the integrand instead of $\\frac{1}{R}$ and we let x = $\\frac{r}{R}$, and we integrate from 0 to $2\\pi$"
   ]
  },
  {
   "cell_type": "code",
   "execution_count": 2,
   "metadata": {},
   "outputs": [],
   "source": [
    "\n",
    "# define symbols that are going to be used\n",
    "# in symbolic computations for real, integer, \n",
    "# and function objects\n",
    "x, r, R, theta, mu, G, M, g = symbols('x r R theta mu G M g')\n",
    "n = symbols('n', integer=True)\n",
    "f, genfun, phi = symbols('f genfun phi', cls=Function)"
   ]
  },
  {
   "cell_type": "code",
   "execution_count": 3,
   "metadata": {},
   "outputs": [
    {
     "data": {
      "image/png": "[encoded data removed]",
      "text/latex": [
       "$$\\frac{1}{\\sqrt{x^{2} - 2 x \\cos{\\left (\\theta \\right )} + 1}}$$"
      ],
      "text/plain": [
       "           1            \n",
       "────────────────────────\n",
       "   _____________________\n",
       "  ╱  2                  \n",
       "╲╱  x  - 2⋅x⋅cos(θ) + 1 "
      ]
     },
     "execution_count": 3,
     "metadata": {},
     "output_type": "execute_result"
    }
   ],
   "source": [
    " #define the integrand that here represents\n",
    "# the so-called generating function of\n",
    "# the Legendre polynomials\n",
    "genfun = 1/sqrt(1+x**2-2*x*cos(theta))\n",
    "genfun\n"
   ]
  },
  {
   "cell_type": "code",
   "execution_count": 4,
   "metadata": {},
   "outputs": [
    {
     "data": {
      "image/png": "[encoded data removed]",
      "text/latex": [
       "$$1 + x \\cos{\\left (\\theta \\right )} + x^{2} \\left(\\frac{3}{2} \\cos^{2}{\\left (\\theta \\right )} - \\frac{1}{2}\\right) + x^{3} \\left(\\frac{5}{2} \\cos^{3}{\\left (\\theta \\right )} - \\frac{3}{2} \\cos{\\left (\\theta \\right )}\\right) + x^{4} \\left(\\frac{35}{8} \\cos^{4}{\\left (\\theta \\right )} - \\frac{15}{4} \\cos^{2}{\\left (\\theta \\right )} + \\frac{3}{8}\\right) + \\mathcal{O}\\left(x^{5}\\right)$$"
      ],
      "text/plain": [
       "                  ⎛     2       ⎞      ⎛     3              ⎞      ⎛      4   \n",
       "                2 ⎜3⋅cos (θ)   1⎟    3 ⎜5⋅cos (θ)   3⋅cos(θ)⎟    4 ⎜35⋅cos (θ)\n",
       "1 + x⋅cos(θ) + x ⋅⎜───────── - ─⎟ + x ⋅⎜───────── - ────────⎟ + x ⋅⎜──────────\n",
       "                  ⎝    2       2⎠      ⎝    2          2    ⎠      ⎝    8     \n",
       "\n",
       "         2       ⎞        \n",
       "   15⋅cos (θ)   3⎟    ⎛ 5⎞\n",
       " - ────────── + ─⎟ + O⎝x ⎠\n",
       "       4        8⎠        "
      ]
     },
     "execution_count": 4,
     "metadata": {},
     "output_type": "execute_result"
    }
   ],
   "source": [
    "\n",
    "# expand it into a series in x=(R/r) < 1 up to its 3rd power\n",
    "genfun.series(x,0,5)"
   ]
  },
  {
   "cell_type": "code",
   "execution_count": 5,
   "metadata": {},
   "outputs": [
    {
     "data": {
      "image/png": "[encoded data removed]",
      "text/latex": [
       "$$x^{4} \\left(\\frac{35}{8} \\cos^{4}{\\left (\\theta \\right )} - \\frac{15}{4} \\cos^{2}{\\left (\\theta \\right )} + \\frac{3}{8}\\right) + x^{3} \\left(\\frac{5}{2} \\cos^{3}{\\left (\\theta \\right )} - \\frac{3}{2} \\cos{\\left (\\theta \\right )}\\right) + x^{2} \\left(\\frac{3}{2} \\cos^{2}{\\left (\\theta \\right )} - \\frac{1}{2}\\right) + x \\cos{\\left (\\theta \\right )} + 1$$"
      ],
      "text/plain": [
       "   ⎛      4            2       ⎞      ⎛     3              ⎞      ⎛     2     \n",
       " 4 ⎜35⋅cos (θ)   15⋅cos (θ)   3⎟    3 ⎜5⋅cos (θ)   3⋅cos(θ)⎟    2 ⎜3⋅cos (θ)  \n",
       "x ⋅⎜────────── - ────────── + ─⎟ + x ⋅⎜───────── - ────────⎟ + x ⋅⎜───────── -\n",
       "   ⎝    8            4        8⎠      ⎝    2          2    ⎠      ⎝    2      \n",
       "\n",
       "  ⎞               \n",
       " 1⎟               \n",
       " ─⎟ + x⋅cos(θ) + 1\n",
       " 2⎠               "
      ]
     },
     "execution_count": 5,
     "metadata": {},
     "output_type": "execute_result"
    }
   ],
   "source": [
    "# get rid of the O symbol for the following computations\n",
    "getfunc_trunc = (genfun.series(x,0,5)).removeO()\n",
    "getfunc_trunc"
   ]
  },
  {
   "cell_type": "code",
   "execution_count": 6,
   "metadata": {},
   "outputs": [
    {
     "data": {
      "image/png": "[encoded data removed]",
      "text/latex": [
       "$$\\left [ 1, \\quad \\cos{\\left (\\theta \\right )}, \\quad \\frac{1}{2} \\left(3 \\cos^{2}{\\left (\\theta \\right )} - 1\\right), \\quad \\frac{1}{2} \\left(5 \\cos^{2}{\\left (\\theta \\right )} - 3\\right) \\cos{\\left (\\theta \\right )}, \\quad \\frac{1}{8} \\left(35 \\cos^{4}{\\left (\\theta \\right )} - 30 \\cos^{2}{\\left (\\theta \\right )} + 3\\right)\\right ]$$"
      ],
      "text/plain": [
       "⎡                2         ⎛     2       ⎞               4            2       \n",
       "⎢           3⋅cos (θ) - 1  ⎝5⋅cos (θ) - 3⎠⋅cos(θ)  35⋅cos (θ) - 30⋅cos (θ) + 3\n",
       "⎢1, cos(θ), ─────────────, ──────────────────────, ───────────────────────────\n",
       "⎣                 2                  2                          8             \n",
       "\n",
       "⎤\n",
       "⎥\n",
       "⎥\n",
       "⎦"
      ]
     },
     "execution_count": 6,
     "metadata": {},
     "output_type": "execute_result"
    }
   ],
   "source": [
    "\n",
    "# collect all the coefficients in the above expansion\n",
    "coeff = [getfunc_trunc.coeff(x,i).factor() for i in range(5)]\n",
    "coeff\n"
   ]
  },
  {
   "cell_type": "code",
   "execution_count": 7,
   "metadata": {},
   "outputs": [
    {
     "data": {
      "image/png": "[encoded data removed]",
      "text/latex": [
       "$$\\frac{9 \\pi}{32} x^{4} + \\frac{\\pi x^{2}}{2} + 2 \\pi$$"
      ],
      "text/plain": [
       "     4      2      \n",
       "9⋅π⋅x    π⋅x       \n",
       "────── + ──── + 2⋅π\n",
       "  32      2        "
      ]
     },
     "execution_count": 7,
     "metadata": {},
     "output_type": "execute_result"
    }
   ],
   "source": [
    "\n",
    "# integrate the truncated series expansion of\n",
    "# the generating function in theta from 0 to pi\n",
    "integral = integrate(getfunc_trunc, (theta,0,2*pi))\n",
    "integral"
   ]
  },
  {
   "cell_type": "code",
   "execution_count": 8,
   "metadata": {},
   "outputs": [
    {
     "data": {
      "image/png": "[encoded data removed]",
      "text/latex": [
       "$$- G \\mu x \\left(\\frac{9 \\pi}{32} x^{4} + \\frac{\\pi x^{2}}{2} + 2 \\pi\\right)$$"
      ],
      "text/plain": [
       "       ⎛     4      2      ⎞\n",
       "       ⎜9⋅π⋅x    π⋅x       ⎟\n",
       "-G⋅μ⋅x⋅⎜────── + ──── + 2⋅π⎟\n",
       "       ⎝  32      2        ⎠"
      ]
     },
     "execution_count": 8,
     "metadata": {},
     "output_type": "execute_result"
    }
   ],
   "source": [
    "\n",
    "# substitute the integral in the expression for \n",
    "# the gravitatonal potential\n",
    "phi = -1*x*mu*G*integral\n",
    "phi"
   ]
  },
  {
   "cell_type": "code",
   "execution_count": 9,
   "metadata": {},
   "outputs": [
    {
     "name": "stdout",
     "output_type": "stream",
     "text": [
      "The gravitational potential of the ring is\n"
     ]
    },
    {
     "data": {
      "image/png": "[encoded data removed]",
      "text/latex": [
       "$$- \\frac{G M x}{2 \\pi r} \\left(\\frac{9 \\pi}{32} x^{4} + \\frac{\\pi x^{2}}{2} + 2 \\pi\\right)$$"
      ],
      "text/plain": [
       "       ⎛     4      2      ⎞ \n",
       "       ⎜9⋅π⋅x    π⋅x       ⎟ \n",
       "-G⋅M⋅x⋅⎜────── + ──── + 2⋅π⎟ \n",
       "       ⎝  32      2        ⎠ \n",
       "─────────────────────────────\n",
       "            2⋅π⋅r            "
      ]
     },
     "execution_count": 9,
     "metadata": {},
     "output_type": "execute_result"
    }
   ],
   "source": [
    "# substitute mu expressed via M, R, and r in phi\n",
    "f = phi.subs({mu:M/(2*pi*r)})\n",
    "print (\"The gravitational potential of the ring is\")\n",
    "f"
   ]
  },
  {
   "cell_type": "code",
   "execution_count": 13,
   "metadata": {},
   "outputs": [
    {
     "data": {
      "image/png": "[encoded data removed]",
      "text/latex": [
       "$$- \\frac{G M}{2 \\pi R} \\left(2 \\pi + \\frac{\\pi r^{2}}{2 R^{2}} + \\frac{9 \\pi r^{4}}{32 R^{4}}\\right)$$"
      ],
      "text/plain": [
       "     ⎛         2        4⎞ \n",
       "     ⎜      π⋅r    9⋅π⋅r ⎟ \n",
       "-G⋅M⋅⎜2⋅π + ──── + ──────⎟ \n",
       "     ⎜         2       4 ⎟ \n",
       "     ⎝      2⋅R    32⋅R  ⎠ \n",
       "───────────────────────────\n",
       "           2⋅π⋅R           "
      ]
     },
     "execution_count": 13,
     "metadata": {},
     "output_type": "execute_result"
    }
   ],
   "source": [
    "f =f.subs(x,r/R)\n",
    "f"
   ]
  },
  {
   "cell_type": "markdown",
   "metadata": {},
   "source": [
    " and this is $-\\frac{GM}{R}\\left(1 + \\frac{r^2}{4R^2}\\right)$ , as needed"
   ]
  },
  {
   "cell_type": "markdown",
   "metadata": {},
   "source": [
    "### Part B"
   ]
  },
  {
   "cell_type": "code",
   "execution_count": 56,
   "metadata": {},
   "outputs": [
    {
     "name": "stdout",
     "output_type": "stream",
     "text": [
      "The average gravitational potential that jupiter exerts on the earth is -164442 J\n"
     ]
    }
   ],
   "source": [
    "rval = 1.496e11\n",
    "Rval = 7.784e11\n",
    "Mval = 1.90e27\n",
    "Gval = 6.674e-11\n",
    "xval = rval/Rval\n",
    "\n",
    "# substitute mu expressed via M, R, and r in phi\n",
    "f = phi.subs({mu:M/(2*pi*r)})\n",
    "f =f.subs(x,r/R)\n",
    "\n",
    "#sub in values\n",
    "f = lambdify(r, f)\n",
    "f = f(rval)\n",
    "f = lambdify(R, f)\n",
    "f = f(Rval)\n",
    "f = lambdify(G, f)\n",
    "f = f(Gval)\n",
    "f = lambdify(M, f)\n",
    "f = f(Mval)\n",
    "print(\"The average gravitational potential that jupiter exerts on the earth is %3.0f J\" %f)"
   ]
  },
  {
   "cell_type": "markdown",
   "metadata": {},
   "source": [
    "## Part C"
   ]
  },
  {
   "cell_type": "code",
   "execution_count": 31,
   "metadata": {},
   "outputs": [],
   "source": [
    "import numpy as np\n",
    "from math import sqrt #directly import for efficiency\n",
    "from math import pow"
   ]
  },
  {
   "cell_type": "code",
   "execution_count": 47,
   "metadata": {},
   "outputs": [
    {
     "name": "stdout",
     "output_type": "stream",
     "text": [
      "The approximated potential is -164440.5614 J, 0.000267% different than the above calculated value \n",
      "and it took 18032 mass bodies to arrive at 1 part in 10^4 accuracy.\n"
     ]
    }
   ],
   "source": [
    "import numpy as np\n",
    "\n",
    "#set initial values\n",
    "rval = 1.496e11\n",
    "Rval = 7.784e11\n",
    "Mval = 1.90e27\n",
    "Gval = 6.674e-11\n",
    "\n",
    "f = -164441\n",
    "pie = 3.14159#so we don't have to call math.pi in the loop\n",
    "\n",
    "\n",
    "#returns potential approximated for n masses in jupiter's orbit\n",
    "def get_pot (n,rval):\n",
    "    nrng = np.arange(0,n)\n",
    "    m = Mval/2/n\n",
    "    #print(m)\n",
    "    #use only one list comprehension for efficiency\n",
    "    pot = sum(-2*Gval*m/(sqrt(Rval**2+rval**2-2*Rval*rval*np.cos(pie - pie/n*x))) for x in nrng) \n",
    "    return pot\n",
    "\n",
    "\n",
    "#returns potential approximated up to 1/10^4 precision\n",
    "def approx_pot(rval):\n",
    "    f1 = get_pot(1,rval)\n",
    "    f2 = get_pot(2,rval)\n",
    "    n = 3\n",
    "    while f1-f2 >  0.001:\n",
    "        f1 = f2\n",
    "        f2 = get_pot(n,rval)\n",
    "        #print(f2)\n",
    "        n += 1\n",
    "    \n",
    "    return [f2,n]\n",
    "\n",
    "pot0 = approx_pot(rval)\n",
    "fa = pot0[0]\n",
    "\n",
    "def percent_diff(fa):\n",
    "    return abs((f-fa)/np.mean([f,fa]))*100\n",
    "\n",
    "pdiff0 = percent_diff(fa)\n",
    "print(\"The approximated potential is %1.4f J, %1.6f%% different than the above calculated value \\nand it took %d mass bodies to arrive at 1 part in 10^4 accuracy.\" %(pot0[0],pdiff0, pot0[1]))"
   ]
  },
  {
   "cell_type": "markdown",
   "metadata": {},
   "source": [
    "### Part D"
   ]
  },
  {
   "cell_type": "code",
   "execution_count": 17,
   "metadata": {},
   "outputs": [],
   "source": [
    "import matplotlib.pyplot as plt"
   ]
  },
  {
   "cell_type": "code",
   "execution_count": 48,
   "metadata": {},
   "outputs": [
    {
     "data": {
      "text/plain": [
       "<matplotlib.legend.Legend at 0x7fb9d7ba9e80>"
      ]
     },
     "execution_count": 48,
     "metadata": {},
     "output_type": "execute_result"
    },
    {
     "data": {
      "image/png": "[encoded data removed]",
      "text/plain": [
       "<Figure size 432x288 with 1 Axes>"
      ]
     },
     "metadata": {},
     "output_type": "display_data"
    }
   ],
   "source": [
    "r_arr = np.array([0,0.2,0.4,0.6,0.8,1])*rval\n",
    "pots = [approx_pot(x) for x in r_arr] \n",
    "f0 = pots[0][0] #define Phi(0)\n",
    "diff = [x[0]-f0 for x in pots]\n",
    "plt.plot(r_arr,diff, \"p\")\n",
    "\n",
    "#fit a quadratic polynomial to show quadratic nature of di\n",
    "z = np.polyfit(r_arr,diff,2)\n",
    "p = np.poly1d(z)\n",
    "xp = np.linspace(0,1.5e11,1000)\n",
    "plt.plot(xp, p(xp), \"--\", label=p)\n",
    "plt.title(\"Difference Between Approximate and Calculated Potential\")\n",
    "plt.xlabel(\"inner radius (m)\")\n",
    "plt.ylabel(\"$\\Phi(r) - \\Phi(0)$\")\n",
    "plt.legend()"
   ]
  },
  {
   "cell_type": "code",
   "execution_count": null,
   "metadata": {},
   "outputs": [],
   "source": []
  }
 ],
 "metadata": {
  "kernelspec": {
   "display_name": "Python 3",
   "language": "python",
   "name": "python3"
  },
  "language_info": {
   "codemirror_mode": {
    "name": "ipython",
    "version": 3
   },
   "file_extension": ".py",
   "mimetype": "text/x-python",
   "name": "python",
   "nbconvert_exporter": "python",
   "pygments_lexer": "ipython3",
   "version": "3.6.4"
  }
 },
 "nbformat": 4,
 "nbformat_minor": 2
}
